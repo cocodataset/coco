{
 "cells": [
  {
   "cell_type": "code",
   "execution_count": 1,
   "metadata": {},
   "outputs": [],
   "source": [
    "%matplotlib inline\n",
    "import matplotlib.pyplot as plt\n",
    "from pycocotools.coco import COCO\n",
    "from pycocotools.cocoeval import COCOeval\n",
    "import numpy as np\n",
    "import skimage.io as io\n",
    "import pylab\n",
    "pylab.rcParams['figure.figsize'] = (10.0, 8.0)"
   ]
  },
  {
   "cell_type": "code",
   "execution_count": 2,
   "metadata": {},
   "outputs": [
    {
     "name": "stdout",
     "output_type": "stream",
     "text": [
      "Running demo for *obb* results.\n"
     ]
    }
   ],
   "source": [
    "annType = ['segm','bbox','keypoints', 'obb']\n",
    "annType = annType[-1]      #specify type here\n",
    "prefix = 'person_keypoints' if annType=='keypoints' else 'instances'\n",
    "print ('Running demo for *%s* results.'%(annType))"
   ]
  },
  {
   "cell_type": "code",
   "execution_count": 3,
   "metadata": {},
   "outputs": [
    {
     "name": "stdout",
     "output_type": "stream",
     "text": [
      "loading annotations into memory...\n",
      "Done (t=0.00s)\n",
      "creating index...\n",
      "index created!\n"
     ]
    }
   ],
   "source": [
    "#initialize COCO ground truth api\n",
    "annFile = '../results/val.json'\n",
    "cocoGt=COCO(annFile)"
   ]
  },
  {
   "cell_type": "code",
   "execution_count": 4,
   "metadata": {},
   "outputs": [
    {
     "name": "stdout",
     "output_type": "stream",
     "text": [
      "Loading and preparing results...\n",
      "DONE (t=0.00s)\n",
      "creating index...\n",
      "index created!\n"
     ]
    }
   ],
   "source": [
    "#initialize COCO detections api\n",
    "resFile='../results/fake_ans.json'\n",
    "cocoDt=cocoGt.loadRes(resFile)"
   ]
  },
  {
   "cell_type": "code",
   "execution_count": 5,
   "metadata": {},
   "outputs": [],
   "source": [
    "imgIds=sorted(cocoGt.getImgIds())\n",
    "imgIds=imgIds\n",
    "#imgId = imgIds[np.random.randint(100)]"
   ]
  },
  {
   "cell_type": "code",
   "execution_count": 6,
   "metadata": {
    "scrolled": false
   },
   "outputs": [
    {
     "name": "stdout",
     "output_type": "stream",
     "text": [
      "Running per image evaluation...\n",
      "Evaluate annotation type *obb*\n",
      "[{'id': 1, 'image_id': 1, 'target_id': 1, 'category': 'Zebra', 'supercategory': 'Zebra', 'by_user': True, 'segmentation': [[145, 66, 145, 123, 76, 123, 76, 66]], 'category_id': 1, 'area': 3933, 'bbox': [76, 66, 69, 57], 'iscrowd': 0, 'ignore': 0}, {'id': 2, 'image_id': 1, 'target_id': 2, 'category': 'Gorilla', 'supercategory': 'Gorilla', 'by_user': True, 'segmentation': [[205, 208, 205, 255, 106, 255, 106, 208]], 'category_id': 1, 'area': 4653, 'bbox': [106, 208, 99, 47], 'iscrowd': 0, 'ignore': 0}] gt\n",
      "[{'image_id': 1, 'category_id': 1, 'bbox': [10, 20, 30, 40], 'segmentation': [[145, 66, 145, 123, 76, 123, 76, 66]], 'score': 1.0, 'area': 1200, 'id': 1, 'iscrowd': 0}, {'image_id': 1, 'category_id': 1, 'bbox': [76, 66, 69, 57], 'segmentation': [[145, 66, 145, 123, 76, 123, 76, 66]], 'score': 0.3, 'area': 3933, 'id': 2, 'iscrowd': 0}] dt\n",
      "[[145  66 145 123  76 123  76  66]\n",
      " [205 208 205 255 106 255 106 208]] BBGT\n",
      "[145  66 145 123  76 123  76  66] BB\n",
      "[ 76 106] 76 xmin\n",
      "[145 205] 145 xmax\n",
      "[ 66 208] 66 ymin\n",
      "[123 255] 123 ymax\n",
      "[4060.    0.] inters\n",
      "[4060. 8860.] uni\n",
      "[1. 0.]  i am overlay\n",
      "[[145  66 145 123  76 123  76  66]\n",
      " [205 208 205 255 106 255 106 208]] BBGT\n",
      "[145  66 145 123  76 123  76  66] BB\n",
      "[ 76 106] 76 xmin\n",
      "[145 205] 145 xmax\n",
      "[ 66 208] 66 ymin\n",
      "[123 255] 123 ymax\n",
      "[4060.    0.] inters\n",
      "[4060. 8860.] uni\n",
      "[1. 0.]  i am overlay\n",
      "HELLO\n",
      "[[1. 0.]\n",
      " [1. 0.]]\n",
      "[] gt\n",
      "[{'image_id': 2, 'category_id': 2, 'bbox': [10, 20, 30, 40], 'score': 1.0, 'segmentation': [[10, 20, 10, 60, 40, 60, 40, 20]], 'area': 1200, 'id': 3, 'iscrowd': 0}] dt\n",
      "[{'id': 3, 'image_id': 2, 'target_id': 4, 'category': 'Dog', 'supercategory': 'Dog', 'by_user': True, 'segmentation': [[206, 128, 206, 152, 147, 152, 147, 128]], 'category_id': 5, 'area': 1416, 'bbox': [147, 128, 59, 24], 'iscrowd': 0, 'ignore': 0}] gt\n",
      "[] dt\n",
      "HELLO\n",
      "[]\n",
      "[{'id': 4, 'image_id': 2, 'target_id': 5, 'category': 'Fish', 'supercategory': 'Fish', 'by_user': True, 'segmentation': [[78, 292, 78, 192, 179, 192, 179, 292]], 'category_id': 6, 'area': 10100, 'bbox': [78, 192, 101, 100], 'iscrowd': 0, 'ignore': 0}] gt\n",
      "[] dt\n",
      "HELLO\n",
      "[]\n",
      "DONE (t=0.00s).\n",
      "Accumulating evaluation results...\n",
      "DONE (t=0.01s).\n",
      " Average Precision  (AP) @[ IoU=0.50:0.95 | area=   all | maxDets=100 ] = 0.168\n",
      " Average Precision  (AP) @[ IoU=0.50      | area=   all | maxDets=100 ] = 0.168\n",
      " Average Precision  (AP) @[ IoU=0.75      | area=   all | maxDets=100 ] = 0.168\n",
      " Average Precision  (AP) @[ IoU=0.50:0.95 | area= small | maxDets=100 ] = -1.000\n",
      " Average Precision  (AP) @[ IoU=0.50:0.95 | area=medium | maxDets=100 ] = 0.252\n",
      " Average Precision  (AP) @[ IoU=0.50:0.95 | area= large | maxDets=100 ] = 0.000\n",
      " Average Recall     (AR) @[ IoU=0.50:0.95 | area=   all | maxDets=  1 ] = 0.167\n",
      " Average Recall     (AR) @[ IoU=0.50:0.95 | area=   all | maxDets= 10 ] = 0.167\n",
      " Average Recall     (AR) @[ IoU=0.50:0.95 | area=   all | maxDets=100 ] = 0.167\n",
      " Average Recall     (AR) @[ IoU=0.50:0.95 | area= small | maxDets=100 ] = -1.000\n",
      " Average Recall     (AR) @[ IoU=0.50:0.95 | area=medium | maxDets=100 ] = 0.250\n",
      " Average Recall     (AR) @[ IoU=0.50:0.95 | area= large | maxDets=100 ] = 0.000\n"
     ]
    }
   ],
   "source": [
    "# running evaluation\n",
    "cocoEval = COCOeval(cocoGt,cocoDt,annType)\n",
    "cocoEval.params.imgIds  = imgIds\n",
    "cocoEval.evaluate()\n",
    "cocoEval.accumulate()\n",
    "cocoEval.summarize()"
   ]
  },
  {
   "cell_type": "code",
   "execution_count": null,
   "metadata": {},
   "outputs": [],
   "source": []
  },
  {
   "cell_type": "code",
   "execution_count": null,
   "metadata": {},
   "outputs": [],
   "source": []
  }
 ],
 "metadata": {
  "kernelspec": {
   "display_name": "Python 3",
   "language": "python",
   "name": "python3"
  },
  "language_info": {
   "codemirror_mode": {
    "name": "ipython",
    "version": 3
   },
   "file_extension": ".py",
   "mimetype": "text/x-python",
   "name": "python",
   "nbconvert_exporter": "python",
   "pygments_lexer": "ipython3",
   "version": "3.6.8"
  }
 },
 "nbformat": 4,
 "nbformat_minor": 1
}
